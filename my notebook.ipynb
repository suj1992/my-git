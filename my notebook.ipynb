{
 "cells": [
  {
   "cell_type": "markdown",
   "id": "5415c15f-3f7a-41cf-8aba-5fe02a5ed91a",
   "metadata": {},
   "source": [
    "# My Jupyter Notebook on IBM Watson Studio\n"
   ]
  },
  {
   "cell_type": "markdown",
   "id": "5de44d90-2acc-4d2d-b92e-a52e9c83b318",
   "metadata": {},
   "source": [
    "## SUJIT DEY\n",
    "\n",
    "I am student of Electronic Science.\n",
    "\n",
    "I am interested in data science because I love to gain insights form data."
   ]
  },
  {
   "cell_type": "markdown",
   "id": "ac6e924a-33a3-40f7-8cb1-89edde0cd866",
   "metadata": {},
   "source": [
    "### The following code tests Gauss Formula"
   ]
  },
  {
   "cell_type": "code",
   "execution_count": 9,
   "id": "30be20b7-88b1-409a-b336-ce2d1982970c",
   "metadata": {},
   "outputs": [
    {
     "data": {
      "text/plain": [
       "True"
      ]
     },
     "execution_count": 9,
     "metadata": {},
     "output_type": "execute_result"
    }
   ],
   "source": [
    "def gauss(n):\n",
    "    return (n*(n+1))/2\n",
    "\n",
    "gauss(100) == sum(range(101))"
   ]
  }
 ],
 "metadata": {
  "kernelspec": {
   "display_name": "Python",
   "language": "python",
   "name": "conda-env-python-py"
  },
  "language_info": {
   "codemirror_mode": {
    "name": "ipython",
    "version": 3
   },
   "file_extension": ".py",
   "mimetype": "text/x-python",
   "name": "python",
   "nbconvert_exporter": "python",
   "pygments_lexer": "ipython3",
   "version": "3.7.12"
  }
 },
 "nbformat": 4,
 "nbformat_minor": 5
}
